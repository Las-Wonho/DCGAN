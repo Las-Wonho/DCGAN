{
 "cells": [
  {
   "cell_type": "code",
   "execution_count": 1,
   "metadata": {},
   "outputs": [
    {
     "name": "stderr",
     "output_type": "stream",
     "text": [
      "C:\\Users\\haho6\\Anaconda3\\lib\\site-packages\\h5py\\__init__.py:36: FutureWarning: Conversion of the second argument of issubdtype from `float` to `np.floating` is deprecated. In future, it will be treated as `np.float64 == np.dtype(float).type`.\n",
      "  from ._conv import register_converters as _register_converters\n"
     ]
    }
   ],
   "source": [
    "import tensorflow as tf\n",
    "import numpy as np"
   ]
  },
  {
   "cell_type": "code",
   "execution_count": 220,
   "metadata": {},
   "outputs": [],
   "source": [
    "from keras.preprocessing.image import load_img, img_to_array\n",
    "images = []\n",
    "for i in range(470):\n",
    "    image = load_img('./DATA/'+str(i)+'.jpeg',target_size=(64,64))\n",
    "    image = img_to_array(image)\n",
    "    image.shape\n",
    "    image = image / 256\n",
    "    images.append(image)\n",
    "    \n",
    "    \n",
    "images = np.array(images)"
   ]
  },
  {
   "cell_type": "code",
   "execution_count": 3,
   "metadata": {},
   "outputs": [],
   "source": [
    "def get_noise(batch_size, n_noise):\n",
    "    return np.random.uniform(-3., 3., size = [batch_size, n_noise])"
   ]
  },
  {
   "cell_type": "code",
   "execution_count": 4,
   "metadata": {},
   "outputs": [],
   "source": [
    "def windowUp(arr):\n",
    "    import cv2\n",
    "    frame = cv2.cvtColor(np.array(arr), cv2.COLOR_BGR2RGB)\n",
    "    cv2.imshow(\"test\", frame)\n",
    "    cv2.waitKey(0)\n",
    "    cv2.destroyAllWindows()\n"
   ]
  },
  {
   "cell_type": "code",
   "execution_count": 221,
   "metadata": {},
   "outputs": [],
   "source": [
    "X = tf.placeholder(tf.float32, [None, 64,64,3])\n",
    "Y = tf.placeholder(tf.float32, [None, 1])\n",
    "Z = tf.placeholder(tf.float32, [None, 100])"
   ]
  },
  {
   "cell_type": "code",
   "execution_count": 222,
   "metadata": {},
   "outputs": [],
   "source": [
    "def generate(Z):\n",
    "    w1 = tf.Variable(tf.random_normal([100, 16384]))\n",
    "    h1 = tf.matmul(Z,w1)\n",
    "    re = tf.reshape(h1,[-1,4,4,1024])\n",
    "    re = tf.layers.batch_normalization(re)\n",
    "\n",
    "    conv_h1 = tf.layers.conv2d_transpose(re ,512, 5, 2, padding='same')\n",
    "    conv_h1 = tf.nn.relu(conv_h1)\n",
    "\n",
    "    conv_h2 = tf.layers.conv2d_transpose(conv_h1 ,256, 4, 2, padding='same')\n",
    "    conv_h2 = tf.nn.relu(conv_h2)\n",
    "\n",
    "    conv_h3 = tf.layers.conv2d_transpose(conv_h2 ,128, 4, 2, padding='same')\n",
    "    conv_h3 = tf.nn.relu(conv_h3)\n",
    "    \n",
    "#    conv_h4 = tf.layers.conv2d_transpose(conv_h3 ,64, 4, 2, padding='same')\n",
    "#    conv_h4 = tf.nn.relu(conv_h4)\n",
    "    \n",
    "    conv_h6 = tf.layers.conv2d_transpose(conv_h3 ,3, 4, 2, padding='same')\n",
    "    return conv_h6"
   ]
  },
  {
   "cell_type": "code",
   "execution_count": 269,
   "metadata": {},
   "outputs": [
    {
     "data": {
      "text/plain": [
       "<tf.Tensor 'conv2d_transpose_31:0' shape=(?, 8, 8, 512) dtype=float32>"
      ]
     },
     "execution_count": 269,
     "metadata": {},
     "output_type": "execute_result"
    }
   ],
   "source": [
    "w1 = tf.Variable(tf.random_normal([100, 16384]))\n",
    "h1 = tf.matmul(Z,w1)\n",
    "re = tf.reshape(h1,[-1,4,4,1024])\n",
    "\n",
    "W1 = tf.Variable(tf.random_normal([3,3,512,1024],stddev=0.02))\n",
    "tf.nn.conv2d_transpose(re,W1,[-1,8,8,512],[1,2,2,1])"
   ]
  },
  {
   "cell_type": "code",
   "execution_count": null,
   "metadata": {},
   "outputs": [],
   "source": []
  },
  {
   "cell_type": "code",
   "execution_count": 252,
   "metadata": {},
   "outputs": [],
   "source": [
    "def discriminaster(inputs):\n",
    "        W1 = tf.Variable(tf.random_normal([3,3,3,32],stddev=0.02))\n",
    "        H1 = tf.nn.conv2d(inputs,W1, strides=[1,2,2,1], padding=\"SAME\")\n",
    "        H1 = tf.layers.batch_normalization(H1)\n",
    "        H1 = tf.nn.relu(H1)\n",
    "\n",
    "        W2 = tf.Variable(tf.random_normal([3,3,32,64],stddev=0.02))\n",
    "        H2 = tf.nn.conv2d(H1,W2, strides=[1,2,2,1], padding=\"SAME\")\n",
    "        H2 = tf.nn.relu(H2)\n",
    "\n",
    "        W3 = tf.Variable(tf.random_normal([3,3,64,256],stddev=0.02))\n",
    "        H3 = tf.nn.conv2d(H2,W3, strides=[1,2,2,1], padding=\"SAME\")\n",
    "        H3 = tf.nn.relu(H3)\n",
    "\n",
    "        out = tf.reshape(H3,[-1,16384])\n",
    "        out = tf.layers.dense(out,1)\n",
    "        return out"
   ]
  },
  {
   "cell_type": "code",
   "execution_count": null,
   "metadata": {},
   "outputs": [],
   "source": []
  },
  {
   "cell_type": "code",
   "execution_count": 253,
   "metadata": {},
   "outputs": [],
   "source": [
    "G = generate(Z)\n",
    "D_real = discriminaster(X)\n",
    "D_gene = discriminaster(G)"
   ]
  },
  {
   "cell_type": "code",
   "execution_count": 254,
   "metadata": {},
   "outputs": [],
   "source": [
    "loss_D_real = tf.reduce_mean(tf.nn.sigmoid_cross_entropy_with_logits(logits=D_real,labels=tf.ones_like(D_real)))\n",
    "\n",
    "loss_D_gene = tf.reduce_mean(tf.nn.sigmoid_cross_entropy_with_logits(logits=D_gene,labels=tf.zeros_like(D_gene)))"
   ]
  },
  {
   "cell_type": "code",
   "execution_count": 255,
   "metadata": {},
   "outputs": [],
   "source": [
    "loss_D = loss_D_gene + loss_D_real\n",
    "loss_G = tf.reduce_mean(tf.nn.sigmoid_cross_entropy_with_logits(logits=D_gene, labels=tf.ones_like(D_gene)))"
   ]
  },
  {
   "cell_type": "code",
   "execution_count": 256,
   "metadata": {},
   "outputs": [],
   "source": [
    "train_D = tf.train.AdamOptimizer(0.01).minimize(loss_D)\n",
    "train_G = tf.train.AdamOptimizer(0.01).minimize(loss_G)"
   ]
  },
  {
   "cell_type": "code",
   "execution_count": 257,
   "metadata": {},
   "outputs": [],
   "source": [
    "sess = tf.Session()\n",
    "sess.run(tf.global_variables_initializer())"
   ]
  },
  {
   "cell_type": "code",
   "execution_count": 262,
   "metadata": {
    "scrolled": true
   },
   "outputs": [
    {
     "name": "stdout",
     "output_type": "stream",
     "text": [
      "0   D : 0.6486298\t G : 3.2939365\n",
      "1   D : 0.65147424\t G : 2.6533058\n",
      "2   D : 0.43201622\t G : 5.7126656\n",
      "3   D : 0.069326654\t G : 10.02589\n",
      "4   D : 0.0105508715\t G : 34.299263\n",
      "5   D : 0.004176916\t G : 17.452185\n",
      "6   D : 0.0008604784\t G : 19.234522\n",
      "7   D : 0.0016715571\t G : 16.487425\n",
      "8   D : 0.015580607\t G : 12.220519\n",
      "9   D : 0.11295734\t G : 10.742517\n",
      "10   D : 0.2966604\t G : 11.388365\n",
      "11   D : 0.3048776\t G : 206.89926\n",
      "12   D : 0.13216904\t G : 19.115206\n",
      "13   D : 0.018097812\t G : 57.993843\n",
      "14   D : 0.006788359\t G : 84.99779\n",
      "15   D : 0.019014174\t G : 22.051512\n",
      "16   D : 0.020542046\t G : 129.85736\n",
      "17   D : 0.004793178\t G : 31.62359\n",
      "18   D : 1.8302882e-05\t G : 15.694987\n",
      "19   D : 0.0005245249\t G : 10.333112\n",
      "20   D : 0.03671009\t G : 21.969425\n",
      "21   D : 0.07331268\t G : 31.757122\n",
      "22   D : 0.042707067\t G : 19.56508\n",
      "23   D : 0.016917208\t G : 19.553322\n",
      "24   D : 0.007871864\t G : 16.494305\n",
      "25   D : 0.004592662\t G : 23.973806\n",
      "26   D : 0.0007774404\t G : 27.958271\n",
      "27   D : 0.0020710465\t G : 26.849564\n",
      "28   D : 0.0264617\t G : 27.16665\n",
      "29   D : 0.13014981\t G : 29.692163\n",
      "30   D : 0.16752242\t G : 33.999004\n",
      "31   D : 1.2774886\t G : 84.62006\n",
      "32   D : 0.018509377\t G : 96.44469\n",
      "33   D : 0.019941133\t G : 40.35489\n",
      "34   D : 0.3047851\t G : 30.456146\n",
      "35   D : 0.5610262\t G : 83.926834\n",
      "36   D : 0.8825542\t G : 41.570602\n",
      "37   D : 1.3151599\t G : 13.911684\n",
      "38   D : 1.0278672\t G : 286.72015\n",
      "39   D : 0.52459615\t G : 130.28976\n"
     ]
    }
   ],
   "source": [
    "im = images[255:260]\n",
    "\n",
    "for i in range(40):\n",
    "    noise = get_noise(5,100)\n",
    "    _, varsD=sess.run([train_D, loss_D], \n",
    "                  feed_dict={\n",
    "                      X:im,\n",
    "                      Z: noise})\n",
    "    \n",
    "    _, varsG=sess.run([train_G, loss_G], \n",
    "                  feed_dict={\n",
    "                      X:im,\n",
    "                      Z: noise})\n",
    "    print(str(i)+\"   D : \"+str(varsD)+\"\\t G : \"+str(varsG))\n"
   ]
  },
  {
   "cell_type": "code",
   "execution_count": 263,
   "metadata": {},
   "outputs": [],
   "source": [
    "\n",
    "noise = get_noise(20,100)\n",
    "i = sess.run(G, feed_dict={Z:noise})\n",
    "for row in range(20):\n",
    "    windowUp(i[row])"
   ]
  },
  {
   "cell_type": "code",
   "execution_count": 388,
   "metadata": {},
   "outputs": [
    {
     "data": {
      "text/plain": [
       "(1, 64, 64, 3)"
      ]
     },
     "execution_count": 388,
     "metadata": {},
     "output_type": "execute_result"
    }
   ],
   "source": [
    "i.shape"
   ]
  },
  {
   "cell_type": "code",
   "execution_count": 207,
   "metadata": {},
   "outputs": [],
   "source": [
    "noise = get_noise(1,100)"
   ]
  },
  {
   "cell_type": "code",
   "execution_count": 106,
   "metadata": {},
   "outputs": [],
   "source": []
  },
  {
   "cell_type": "code",
   "execution_count": null,
   "metadata": {},
   "outputs": [],
   "source": []
  }
 ],
 "metadata": {
  "kernelspec": {
   "display_name": "Python 3",
   "language": "python",
   "name": "python3"
  },
  "language_info": {
   "codemirror_mode": {
    "name": "ipython",
    "version": 3
   },
   "file_extension": ".py",
   "mimetype": "text/x-python",
   "name": "python",
   "nbconvert_exporter": "python",
   "pygments_lexer": "ipython3",
   "version": "3.6.5"
  }
 },
 "nbformat": 4,
 "nbformat_minor": 2
}
